{
  "nbformat": 4,
  "nbformat_minor": 0,
  "metadata": {
    "colab": {
      "name": "crawling_webnovel.ipynb",
      "provenance": [],
      "collapsed_sections": [],
      "authorship_tag": "ABX9TyNoL3Cyb080XM3Wd1g5GVI5"
    },
    "kernelspec": {
      "name": "python3",
      "display_name": "Python 3"
    },
    "language_info": {
      "name": "python"
    }
  },
  "cells": [
    {
      "cell_type": "code",
      "metadata": {
        "id": "T-EeWVVwIZlv"
      },
      "source": [
        "# drive mount \n",
        "from google.colab import drive \n",
        "drive.mount(\"/content/Mydrive/\")"
      ],
      "execution_count": null,
      "outputs": []
    },
    {
      "cell_type": "code",
      "metadata": {
        "id": "_yOTGeuQIl3q"
      },
      "source": [
        "# 현재 디렉토리 확인 \n",
        "import os \n",
        "os.getcwd()"
      ],
      "execution_count": null,
      "outputs": []
    },
    {
      "cell_type": "code",
      "metadata": {
        "id": "L3X-U9bsIlyJ"
      },
      "source": [
        "# 경로 변경 \n",
        "os.chdir('/content/Mydrive/MyDrive/Project III/네이버웹소설_크롤링')\n",
        "os.getcwd()"
      ],
      "execution_count": null,
      "outputs": []
    },
    {
      "cell_type": "code",
      "metadata": {
        "id": "1F42ZowLIlvv"
      },
      "source": [
        "# 패키지 설치 \n",
        "!pip install selenium\n",
        "!apt-get update\n",
        "!apt install chromium-chromedriver"
      ],
      "execution_count": null,
      "outputs": []
    },
    {
      "cell_type": "code",
      "metadata": {
        "id": "Yk0obR-MIlsZ"
      },
      "source": [
        "# colab에서 webdriver 사용하기 위한 준비 \n",
        "from selenium import webdriver\n",
        "import time\n",
        "from urllib.request import urlretrieve\n",
        "\n",
        "chrome_options = webdriver.ChromeOptions()\n",
        "chrome_options.add_argument('--headless')\n",
        "chrome_options.add_argument('--no-sandbox')\n",
        "chrome_options.add_argument('--disable-dev-shm-usage')"
      ],
      "execution_count": null,
      "outputs": []
    },
    {
      "cell_type": "code",
      "metadata": {
        "id": "Fro6_1GmIloj"
      },
      "source": [
        "driver = webdriver.Chrome('chromedriver', chrome_options=chrome_options)\n",
        "#  웹 자원 로드 위해 3초 기다리기\n",
        "driver.implicitly_wait(3)\n",
        "\n",
        "# 특정 url 열기\n",
        "driver.get(\"<크롤링할 웹소설 장르 페이지>\")\n",
        "time.sleep(3)\n",
        "# 팝업창 닫기\n",
        "popup =  driver.find_element_by_class_name(\"lk_finish\")\n",
        "popup.click()\n",
        "\n",
        "# 웹소설 제목 특수문자 제거용\n",
        "characters = '?!.,/' \n",
        "\n",
        "# 데이터 담을 리스트 \n",
        "titles, writers, illustrators, stars, downloads, publishs, genres, hearts, img_paths = [], [], [], [], [], [], [], [], []\n",
        "count = 0 # 파일명 생성 시 사용 \n",
        "\n",
        "# 다음 페이지 클릭 \n",
        "for j in range(0,13) : \n",
        "    start = time.time()\n",
        "    print(j,\"페이지\")\n",
        "    if j > 7 : \n",
        "        j = 7 \n",
        "    if j >= 1 : \n",
        "        next_page = driver.find_element_by_xpath(f'//*[@id=\"content\"]/div[2]/div[2]/a[{j}]')\n",
        "        next_page.click()\n",
        "        time.sleep(1.5)\n",
        "\n",
        "    # 페이지 내 작품 클릭 \n",
        "    for i in range(1,21) : \n",
        "        print(i,'번째 작품')\n",
        "        driver.find_element_by_xpath(f'//*[@id=\"content\"]/div[2]/ul/li[{i}]/a').click()\n",
        "        time.sleep(1.5)\n",
        "\n",
        "        # 제목 \n",
        "        try : \n",
        "            title = driver.find_element_by_class_name(\"book_title\").text\n",
        "        except: \n",
        "            title = ''\n",
        "\n",
        "        # 글작가\n",
        "        try : \n",
        "            writer = driver.find_element_by_xpath('//*[@id=\"content\"]/p/a[1]').text\n",
        "        except: \n",
        "            writer = ''\n",
        "\n",
        "        # 삽화가 \n",
        "        try :\n",
        "            illustrator = driver.find_element_by_xpath('//*[@id=\"content\"]/p/a[2]').text\n",
        "        except: \n",
        "            illustrator = ''\n",
        "\n",
        "        time.sleep(1)\n",
        "\n",
        "        # 별점 \n",
        "        try :\n",
        "            star = driver.find_element_by_xpath('//*[@id=\"content\"]/div[1]/p[1]/em').text \n",
        "        except: \n",
        "            star = ''\n",
        "\n",
        "        # 다운로드 \n",
        "        try :\n",
        "            download = driver.find_element_by_class_name(\"download\").text\n",
        "        except: \n",
        "            download = ''\n",
        "\n",
        "        # 연재 날짜 \n",
        "        try :\n",
        "            publish = driver.find_element_by_class_name(\"publish\").text\n",
        "        except: \n",
        "            publish = ''\n",
        "\n",
        "        # time.sleep(1)\n",
        "\n",
        "        # 장르 \n",
        "        try :\n",
        "            genre = driver.find_element_by_class_name(\"genre\").text\n",
        "        except: \n",
        "            genre = ''\n",
        "\n",
        "        # 하트 수 \n",
        "        try :\n",
        "            heart = driver.find_element_by_xpath('//*[@id=\"content\"]/ul/li[1]/div/a/em').text \n",
        "        except: \n",
        "            heart = ''\n",
        "\n",
        "        # 이미지 저장 \n",
        "        try :\n",
        "            image = driver.find_element_by_xpath('//*[@id=\"content\"]/div[1]/a[1]/img')\n",
        "            img_url = image.get_attribute(\"src\")\n",
        "            title = ''.join( x for x in title if x not in characters)\n",
        "            img_path = f\"./img_data/{count}.{title}.jpg\"\n",
        "            urlretrieve(img_url,img_path )\n",
        "        except: \n",
        "            img_path = ''\n",
        "        time.sleep(1)\n",
        "\n",
        "        count += 1 \n",
        "        titles.append(title)\n",
        "        writers.append(writer)\n",
        "        illustrators.append(illustrator)\n",
        "        stars.append(star)\n",
        "        downloads.append(download)\n",
        "        publishs.append(publish)\n",
        "        genres.append(genre)\n",
        "        hearts.append(heart)\n",
        "        img_paths.append(img_path)\n",
        "\n",
        "        # 뒤로가기 \n",
        "        driver.back()\n",
        "    print(\"페이지 당: \", time.time()-start)\n",
        "\n",
        "# 드라이버 닫기 \n",
        "driver.quit()"
      ],
      "execution_count": null,
      "outputs": []
    },
    {
      "cell_type": "code",
      "metadata": {
        "id": "9gCgFDe_Ilkd"
      },
      "source": [
        "# 데이터 프레임 생성 \n",
        "import pandas as pd \n",
        "\n",
        "df = pd.DataFrame({\n",
        "    '제목' : titles, \n",
        "    '작가' : writers,\n",
        "    '삽화가' : illustrators,\n",
        "    '별점' : stars, \n",
        "    '다운로드수' : downloads, \n",
        "    '연재일' : publishs,\n",
        "    '장르' : genres,\n",
        "    '하트수' : hearts,\n",
        "    '이미지주소' : img_paths\n",
        "    \n",
        "})\n",
        "\n",
        "df"
      ],
      "execution_count": null,
      "outputs": []
    },
    {
      "cell_type": "code",
      "metadata": {
        "id": "pmK-hqzOIlhe"
      },
      "source": [
        "# csv 저장 \n",
        "df.to_csv(\"<저장경로>\", index= False)"
      ],
      "execution_count": null,
      "outputs": []
    },
    {
      "cell_type": "code",
      "metadata": {
        "id": "y84OuVsgIlcB"
      },
      "source": [
        ""
      ],
      "execution_count": null,
      "outputs": []
    },
    {
      "cell_type": "code",
      "metadata": {
        "id": "QTdwN7PwIlYb"
      },
      "source": [
        ""
      ],
      "execution_count": null,
      "outputs": []
    },
    {
      "cell_type": "code",
      "metadata": {
        "id": "O8mJo-g5IlVd"
      },
      "source": [
        ""
      ],
      "execution_count": null,
      "outputs": []
    },
    {
      "cell_type": "code",
      "metadata": {
        "id": "5Tf3Kdd4IlSc"
      },
      "source": [
        ""
      ],
      "execution_count": null,
      "outputs": []
    },
    {
      "cell_type": "code",
      "metadata": {
        "id": "VAvgpI4kIlM8"
      },
      "source": [
        ""
      ],
      "execution_count": null,
      "outputs": []
    },
    {
      "cell_type": "code",
      "metadata": {
        "id": "25mgo6RzIlIC"
      },
      "source": [
        ""
      ],
      "execution_count": null,
      "outputs": []
    },
    {
      "cell_type": "code",
      "metadata": {
        "id": "ftZeGFfmIlCL"
      },
      "source": [
        ""
      ],
      "execution_count": null,
      "outputs": []
    },
    {
      "cell_type": "code",
      "metadata": {
        "id": "cUYmnwxjIk96"
      },
      "source": [
        ""
      ],
      "execution_count": null,
      "outputs": []
    },
    {
      "cell_type": "code",
      "metadata": {
        "id": "WukX0yx_Ik5v"
      },
      "source": [
        ""
      ],
      "execution_count": null,
      "outputs": []
    },
    {
      "cell_type": "code",
      "metadata": {
        "id": "GNcL4NlOIk22"
      },
      "source": [
        ""
      ],
      "execution_count": null,
      "outputs": []
    },
    {
      "cell_type": "code",
      "metadata": {
        "id": "zqeW33SJIkz3"
      },
      "source": [
        ""
      ],
      "execution_count": null,
      "outputs": []
    },
    {
      "cell_type": "code",
      "metadata": {
        "id": "ns0AT6NNIkwy"
      },
      "source": [
        ""
      ],
      "execution_count": null,
      "outputs": []
    },
    {
      "cell_type": "code",
      "metadata": {
        "id": "NEtJVOIhIktx"
      },
      "source": [
        ""
      ],
      "execution_count": null,
      "outputs": []
    },
    {
      "cell_type": "code",
      "metadata": {
        "id": "rBn7sugSIkqx"
      },
      "source": [
        ""
      ],
      "execution_count": null,
      "outputs": []
    },
    {
      "cell_type": "code",
      "metadata": {
        "id": "map1wGBaIkne"
      },
      "source": [
        ""
      ],
      "execution_count": null,
      "outputs": []
    },
    {
      "cell_type": "code",
      "metadata": {
        "id": "MDdwmxk1IkkN"
      },
      "source": [
        ""
      ],
      "execution_count": null,
      "outputs": []
    },
    {
      "cell_type": "code",
      "metadata": {
        "id": "74XIMM5QIkgG"
      },
      "source": [
        ""
      ],
      "execution_count": null,
      "outputs": []
    },
    {
      "cell_type": "code",
      "metadata": {
        "id": "9afP1Ku1IkcR"
      },
      "source": [
        ""
      ],
      "execution_count": null,
      "outputs": []
    },
    {
      "cell_type": "code",
      "metadata": {
        "id": "-4P50XdOIkVV"
      },
      "source": [
        ""
      ],
      "execution_count": null,
      "outputs": []
    },
    {
      "cell_type": "code",
      "metadata": {
        "id": "9bVfyPfMIjwk"
      },
      "source": [
        ""
      ],
      "execution_count": null,
      "outputs": []
    },
    {
      "cell_type": "code",
      "metadata": {
        "id": "OHKuBxUhIjaO"
      },
      "source": [
        ""
      ],
      "execution_count": null,
      "outputs": []
    }
  ]
}
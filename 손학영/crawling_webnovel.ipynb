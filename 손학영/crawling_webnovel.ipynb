{
  "cells": [
    {
      "cell_type": "code",
      "execution_count": null,
      "metadata": {
        "id": "T-EeWVVwIZlv"
      },
      "outputs": [],
      "source": [
        "# drive mount \n",
        "from google.colab import drive \n",
        "drive.mount(\"/content/Mydrive/\")"
      ]
    },
    {
      "cell_type": "code",
      "execution_count": 1,
      "metadata": {
        "id": "_yOTGeuQIl3q"
      },
      "outputs": [
        {
          "data": {
            "text/plain": [
              "'c:\\\\Users\\\\sonso\\\\Desktop\\\\Git\\\\멀티캠퍼스\\\\04.FinalProject\\\\손학영'"
            ]
          },
          "execution_count": 1,
          "metadata": {},
          "output_type": "execute_result"
        }
      ],
      "source": [
        "# 현재 디렉토리 확인 \n",
        "import os \n",
        "os.getcwd()"
      ]
    },
    {
      "cell_type": "code",
      "execution_count": null,
      "metadata": {
        "id": "L3X-U9bsIlyJ"
      },
      "outputs": [],
      "source": [
        "# 경로 변경 \n",
        "os.chdir('/content/Mydrive/MyDrive/Project III/네이버웹소설_크롤링')\n",
        "os.getcwd()"
      ]
    },
    {
      "cell_type": "code",
      "execution_count": null,
      "metadata": {
        "id": "1F42ZowLIlvv"
      },
      "outputs": [],
      "source": [
        "# 패키지 설치 \n",
        "!pip install selenium\n",
        "!apt-get update\n",
        "!apt install chromium-chromedriver"
      ]
    },
    {
      "cell_type": "code",
      "execution_count": 2,
      "metadata": {
        "id": "Yk0obR-MIlsZ"
      },
      "outputs": [],
      "source": [
        "# colab에서 webdriver 사용하기 위한 준비 \n",
        "from selenium import webdriver\n",
        "import time\n",
        "from urllib.request import urlretrieve\n",
        "\n",
        "# chrome_options = webdriver.ChromeOptions()\n",
        "# chrome_options.add_argument('--headless')\n",
        "# chrome_options.add_argument('--no-sandbox')\n",
        "# chrome_options.add_argument('--disable-dev-shm-usage')"
      ]
    },
    {
      "cell_type": "code",
      "execution_count": 26,
      "metadata": {},
      "outputs": [],
      "source": [
        "# 크롤링할 url \n",
        "\n",
        "base_url = ['https://novel.naver.com/webnovel/genre?genre=101', 'https://novel.naver.com/webnovel/genre?genre=109',\n",
        "            'https://novel.naver.com/webnovel/genre?genre=102', 'https://novel.naver.com/webnovel/genre?genre=110', \n",
        "           'https://novel.naver.com/webnovel/genre?genre=103', 'https://novel.naver.com/webnovel/genre?genre=104',\n",
        "           'https://novel.naver.com/webnovel/finish?genre=all&order=Read']\n",
        "\n",
        "# 페이지 수 \n",
        "pages = [2, 3, 1, 1, 1, 1, 32]"
      ]
    },
    {
      "cell_type": "code",
      "execution_count": 27,
      "metadata": {},
      "outputs": [
        {
          "name": "stdout",
          "output_type": "stream",
          "text": [
            "https://novel.naver.com/webnovel/genre?genre=101&page=1\n",
            "https://novel.naver.com/webnovel/genre?genre=101&page=2\n"
          ]
        }
      ],
      "source": [
        "for page in range(pages[0]) :\n",
        "    print(base_url[0]+\"&page={}\".format(page+1))"
      ]
    },
    {
      "cell_type": "code",
      "execution_count": 51,
      "metadata": {},
      "outputs": [],
      "source": [
        "driver = webdriver.Chrome('./chromedriver.exe')\n",
        "    #  웹 자원 로드 위해 3초 기다리기\n",
        "driver.implicitly_wait(3)\n",
        "\n",
        "driver.get(base_url[0])\n",
        "time.sleep(3)\n",
        "# 팝업창 닫기\n",
        "popup =  driver.find_element_by_class_name(\"lk_finish\")\n",
        "popup.click()"
      ]
    },
    {
      "cell_type": "code",
      "execution_count": 52,
      "metadata": {},
      "outputs": [],
      "source": [
        "driver.find_element_by_xpath(f'//*[@id=\"content\"]/div[2]/ul/li[{4}]/a').click()"
      ]
    },
    {
      "cell_type": "code",
      "execution_count": 53,
      "metadata": {},
      "outputs": [
        {
          "data": {
            "text/plain": [
              "'2021.11.06.'"
            ]
          },
          "execution_count": 53,
          "metadata": {},
          "output_type": "execute_result"
        }
      ],
      "source": [
        "# lastdate = driver.find_element_by_xpath('//*[@id=\"volume55\"]/a/div[2]/p[2]/span[3]').text\n",
        "driver.find_elements_by_class_name('date')[1].text"
      ]
    },
    {
      "cell_type": "code",
      "execution_count": 24,
      "metadata": {
        "id": "Fro6_1GmIloj"
      },
      "outputs": [],
      "source": [
        "for i in range(6) : # 총 6개의 탭에서 크롤링할 것 \n",
        "\n",
        "    # driver = webdriver.Chrome('chromedriver', chrome_options=chrome_options)\n",
        "    driver = webdriver.Chrome('./chromedriver.exe')\n",
        "    #  웹 자원 로드 위해 3초 기다리기\n",
        "    driver.implicitly_wait(3)\n",
        "\n",
        "    # 처음 base_url 열기\n",
        "    driver.get(base_url[i])\n",
        "    time.sleep(3)\n",
        "    # 팝업창 닫기\n",
        "    popup =  driver.find_element_by_class_name(\"lk_finish\")\n",
        "    popup.click()\n",
        "\n",
        "\n",
        "    for page in range(pages[i]) : \n",
        "        # 해당 페이지로 들어가기 \n",
        "        driver.get(base_url[i]+\"&page={}\".format(page+1))\n",
        "        time.sleep(1.5)\n",
        "        \n",
        "        # 페이지 내 작품 클릭 \n",
        "    for j in range(1,21) : \n",
        "        print(j,'번째 작품')\n",
        "        try : \n",
        "            driver.find_element_by_xpath(f'//*[@id=\"content\"]/div[2]/ul/li[{j}]/a').click()\n",
        "            time.sleep(1.5)\n",
        "\n",
        "            # 제목 \n",
        "            try : \n",
        "                title = driver.find_element_by_class_name(\"book_title\").text\n",
        "            except: \n",
        "                title = ''\n",
        "\n",
        "            # 글작가\n",
        "            try : \n",
        "                writer = driver.find_element_by_xpath('//*[@id=\"content\"]/p/a[1]').text\n",
        "            except: \n",
        "                writer = ''\n",
        "\n",
        "            # 삽화가 \n",
        "            try :\n",
        "                illustrator = driver.find_element_by_xpath('//*[@id=\"content\"]/p/a[2]').text\n",
        "            except: \n",
        "                illustrator = ''\n",
        "\n",
        "            time.sleep(1)\n",
        "\n",
        "            # 별점 \n",
        "            try :\n",
        "                star = driver.find_element_by_xpath('//*[@id=\"content\"]/div[1]/p[1]/em').text \n",
        "            except: \n",
        "                star = ''\n",
        "\n",
        "            # 다운로드 \n",
        "            try :\n",
        "                download = driver.find_element_by_class_name(\"download\").text\n",
        "            except: \n",
        "                download = ''\n",
        "\n",
        "            # 연재 요일 \n",
        "            try :\n",
        "                publish = driver.find_element_by_class_name(\"publish\").text\n",
        "            except: \n",
        "                publish = ''\n",
        "\n",
        "            # time.sleep(1)\n",
        "\n",
        "            # 장르 \n",
        "            try :\n",
        "                genre = driver.find_element_by_class_name(\"genre\").text\n",
        "            except: \n",
        "                genre = ''\n",
        "\n",
        "            # 하트 수 \n",
        "            try :\n",
        "                heart = driver.find_element_by_xpath('//*[@id=\"content\"]/ul/li[1]/div/a/em').text \n",
        "            except: \n",
        "                heart = ''\n",
        "                \n",
        "            # 연재 마지막 날짜 \n",
        "            try : \n",
        "                lastdate = driver.find_element_by_xpath('//*[@id=\"volume55\"]/a/div[2]/p[2]/span[3]').text\n",
        "            except : \n",
        "                lastdate = ''    \n",
        "\n",
        "            # 이미지 저장 \n",
        "            try :\n",
        "                image = driver.find_element_by_xpath('//*[@id=\"content\"]/div[1]/a[1]/img')\n",
        "                img_url = image.get_attribute(\"src\")\n",
        "                title = ''.join( x for x in title if x not in characters)\n",
        "                title = title.replace(' ', '')\n",
        "                \n",
        "                img_path = f\"./img_data2/{genre}_{title}.jpg\"\n",
        "                urlretrieve(img_url,img_path)\n",
        "            except: \n",
        "                img_path = ''\n",
        "            time.sleep(1)\n",
        "\n",
        "            \n",
        "            titles.append(title)\n",
        "            writers.append(writer)\n",
        "            illustrators.append(illustrator)\n",
        "            stars.append(star)\n",
        "            downloads.append(download)\n",
        "            publishs.append(publish)\n",
        "            genres.append(genre)\n",
        "            hearts.append(heart)\n",
        "            lastdates.append(lastdate)\n",
        "            img_paths.append(img_path)\n",
        "\n",
        "            # 뒤로가기 \n",
        "            driver.back()\n",
        "        except : \n",
        "            break \n"
      ]
    },
    {
      "cell_type": "code",
      "execution_count": null,
      "metadata": {},
      "outputs": [],
      "source": []
    },
    {
      "cell_type": "code",
      "execution_count": 16,
      "metadata": {},
      "outputs": [],
      "source": [
        "characters = '?!.,/' \n",
        "title = ''.join( x for x in title if x not in characters)\n",
        "title = title.replace(' ', '')"
      ]
    },
    {
      "cell_type": "code",
      "execution_count": null,
      "metadata": {},
      "outputs": [],
      "source": [
        "# 웹소설 제목 특수문자 제거용\n",
        "characters = '?!.,/' \n",
        "\n",
        "# 데이터 담을 리스트 \n",
        "titles, writers, illustrators, stars, downloads, publishs, genres, hearts, img_paths, lastdates = [], [], [], [], [], [], [], [], [], []\n",
        "\n",
        "\n",
        "# 다음 페이지 클릭 \n",
        "for j in range(0,13) : \n",
        "    start = time.time()\n",
        "    print(j,\"페이지\")\n",
        "    if j > 7 : \n",
        "        j = 7 \n",
        "    if j >= 1 : \n",
        "        next_page = driver.find_element_by_xpath(f'//*[@id=\"content\"]/div[2]/div[2]/a[{j}]')\n",
        "        next_page.click()\n",
        "        time.sleep(1.5)\n",
        "\n",
        "    # 페이지 내 작품 클릭 \n",
        "    for i in range(1,21) : \n",
        "        print(i,'번째 작품')\n",
        "        driver.find_element_by_xpath(f'//*[@id=\"content\"]/div[2]/ul/li[{i}]/a').click()\n",
        "        time.sleep(1.5)\n",
        "\n",
        "        # 제목 \n",
        "        try : \n",
        "            title = driver.find_element_by_class_name(\"book_title\").text\n",
        "        except: \n",
        "            title = ''\n",
        "\n",
        "        # 글작가\n",
        "        try : \n",
        "            writer = driver.find_element_by_xpath('//*[@id=\"content\"]/p/a[1]').text\n",
        "        except: \n",
        "            writer = ''\n",
        "\n",
        "        # 삽화가 \n",
        "        try :\n",
        "            illustrator = driver.find_element_by_xpath('//*[@id=\"content\"]/p/a[2]').text\n",
        "        except: \n",
        "            illustrator = ''\n",
        "\n",
        "        time.sleep(1)\n",
        "\n",
        "        # 별점 \n",
        "        try :\n",
        "            star = driver.find_element_by_xpath('//*[@id=\"content\"]/div[1]/p[1]/em').text \n",
        "        except: \n",
        "            star = ''\n",
        "\n",
        "        # 다운로드 \n",
        "        try :\n",
        "            download = driver.find_element_by_class_name(\"download\").text\n",
        "        except: \n",
        "            download = ''\n",
        "\n",
        "        # 연재 요일 \n",
        "        try :\n",
        "            publish = driver.find_element_by_class_name(\"publish\").text\n",
        "        except: \n",
        "            publish = ''\n",
        "\n",
        "        # time.sleep(1)\n",
        "\n",
        "        # 장르 \n",
        "        try :\n",
        "            genre = driver.find_element_by_class_name(\"genre\").text\n",
        "        except: \n",
        "            genre = ''\n",
        "\n",
        "        # 하트 수 \n",
        "        try :\n",
        "            heart = driver.find_element_by_xpath('//*[@id=\"content\"]/ul/li[1]/div/a/em').text \n",
        "        except: \n",
        "            heart = ''\n",
        "            \n",
        "        # 연재 마지막 날짜 \n",
        "        try : \n",
        "            lastdate = driver.find_element_by_xpath('//*[@id=\"volume55\"]/a/div[2]/p[2]/span[3]').text\n",
        "        except : \n",
        "            lastdate = ''    \n",
        "\n",
        "        # 이미지 저장 \n",
        "        try :\n",
        "            image = driver.find_element_by_xpath('//*[@id=\"content\"]/div[1]/a[1]/img')\n",
        "            img_url = image.get_attribute(\"src\")\n",
        "            title = ''.join( x for x in title if x not in characters)\n",
        "            title = title.replace(' ', '')\n",
        "            \n",
        "            img_path = f\"./img_data2/{genre}_{title}.jpg\"\n",
        "            urlretrieve(img_url,img_path)\n",
        "        except: \n",
        "            img_path = ''\n",
        "        time.sleep(1)\n",
        "\n",
        "        \n",
        "        titles.append(title)\n",
        "        writers.append(writer)\n",
        "        illustrators.append(illustrator)\n",
        "        stars.append(star)\n",
        "        downloads.append(download)\n",
        "        publishs.append(publish)\n",
        "        genres.append(genre)\n",
        "        hearts.append(heart)\n",
        "        lastdates.append(lastdate)\n",
        "        img_paths.append(img_path)\n",
        "\n",
        "        # 뒤로가기 \n",
        "        driver.back()\n",
        "    print(\"페이지 당: \", time.time()-start)\n",
        "\n",
        "# 드라이버 닫기 \n",
        "driver.quit()"
      ]
    },
    {
      "cell_type": "code",
      "execution_count": null,
      "metadata": {
        "id": "9gCgFDe_Ilkd"
      },
      "outputs": [],
      "source": [
        "# 데이터 프레임 생성 \n",
        "import pandas as pd \n",
        "\n",
        "df = pd.DataFrame({\n",
        "    '제목' : titles, \n",
        "    '작가' : writers,\n",
        "    '삽화가' : illustrators,\n",
        "    '별점' : stars, \n",
        "    '다운로드수' : downloads, \n",
        "    '연재일' : publishs,\n",
        "    '장르' : genres,\n",
        "    '하트수' : hearts,\n",
        "    '이미지주소' : img_paths\n",
        "    \n",
        "})\n",
        "\n",
        "df"
      ]
    },
    {
      "cell_type": "code",
      "execution_count": null,
      "metadata": {
        "id": "pmK-hqzOIlhe"
      },
      "outputs": [],
      "source": [
        "# csv 저장 \n",
        "df.to_csv(\"<저장경로>\", index= False)"
      ]
    },
    {
      "cell_type": "code",
      "execution_count": null,
      "metadata": {
        "id": "y84OuVsgIlcB"
      },
      "outputs": [],
      "source": []
    },
    {
      "cell_type": "code",
      "execution_count": null,
      "metadata": {
        "id": "QTdwN7PwIlYb"
      },
      "outputs": [],
      "source": []
    },
    {
      "cell_type": "code",
      "execution_count": null,
      "metadata": {
        "id": "O8mJo-g5IlVd"
      },
      "outputs": [],
      "source": []
    },
    {
      "cell_type": "code",
      "execution_count": null,
      "metadata": {
        "id": "5Tf3Kdd4IlSc"
      },
      "outputs": [],
      "source": []
    },
    {
      "cell_type": "code",
      "execution_count": null,
      "metadata": {
        "id": "VAvgpI4kIlM8"
      },
      "outputs": [],
      "source": []
    },
    {
      "cell_type": "code",
      "execution_count": null,
      "metadata": {
        "id": "25mgo6RzIlIC"
      },
      "outputs": [],
      "source": []
    },
    {
      "cell_type": "code",
      "execution_count": null,
      "metadata": {
        "id": "ftZeGFfmIlCL"
      },
      "outputs": [],
      "source": []
    },
    {
      "cell_type": "code",
      "execution_count": null,
      "metadata": {
        "id": "cUYmnwxjIk96"
      },
      "outputs": [],
      "source": []
    },
    {
      "cell_type": "code",
      "execution_count": null,
      "metadata": {
        "id": "WukX0yx_Ik5v"
      },
      "outputs": [],
      "source": []
    },
    {
      "cell_type": "code",
      "execution_count": null,
      "metadata": {
        "id": "GNcL4NlOIk22"
      },
      "outputs": [],
      "source": []
    },
    {
      "cell_type": "code",
      "execution_count": null,
      "metadata": {
        "id": "zqeW33SJIkz3"
      },
      "outputs": [],
      "source": []
    },
    {
      "cell_type": "code",
      "execution_count": null,
      "metadata": {
        "id": "ns0AT6NNIkwy"
      },
      "outputs": [],
      "source": []
    },
    {
      "cell_type": "code",
      "execution_count": null,
      "metadata": {
        "id": "NEtJVOIhIktx"
      },
      "outputs": [],
      "source": []
    },
    {
      "cell_type": "code",
      "execution_count": null,
      "metadata": {
        "id": "rBn7sugSIkqx"
      },
      "outputs": [],
      "source": []
    },
    {
      "cell_type": "code",
      "execution_count": null,
      "metadata": {
        "id": "map1wGBaIkne"
      },
      "outputs": [],
      "source": []
    },
    {
      "cell_type": "code",
      "execution_count": null,
      "metadata": {
        "id": "MDdwmxk1IkkN"
      },
      "outputs": [],
      "source": []
    },
    {
      "cell_type": "code",
      "execution_count": null,
      "metadata": {
        "id": "74XIMM5QIkgG"
      },
      "outputs": [],
      "source": []
    },
    {
      "cell_type": "code",
      "execution_count": null,
      "metadata": {
        "id": "9afP1Ku1IkcR"
      },
      "outputs": [],
      "source": []
    },
    {
      "cell_type": "code",
      "execution_count": null,
      "metadata": {
        "id": "-4P50XdOIkVV"
      },
      "outputs": [],
      "source": []
    },
    {
      "cell_type": "code",
      "execution_count": null,
      "metadata": {
        "id": "9bVfyPfMIjwk"
      },
      "outputs": [],
      "source": []
    },
    {
      "cell_type": "code",
      "execution_count": null,
      "metadata": {
        "id": "OHKuBxUhIjaO"
      },
      "outputs": [],
      "source": []
    }
  ],
  "metadata": {
    "colab": {
      "authorship_tag": "ABX9TyNoL3Cyb080XM3Wd1g5GVI5",
      "collapsed_sections": [],
      "name": "crawling_webnovel.ipynb",
      "provenance": []
    },
    "kernelspec": {
      "display_name": "Python 3",
      "name": "python3"
    },
    "language_info": {
      "codemirror_mode": {
        "name": "ipython",
        "version": 3
      },
      "file_extension": ".py",
      "mimetype": "text/x-python",
      "name": "python",
      "nbconvert_exporter": "python",
      "pygments_lexer": "ipython3",
      "version": "3.7.3"
    }
  },
  "nbformat": 4,
  "nbformat_minor": 0
}
